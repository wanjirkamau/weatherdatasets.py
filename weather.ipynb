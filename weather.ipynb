{
 "cells": [
  {
   "cell_type": "code",
   "execution_count": 16,
   "metadata": {},
   "outputs": [
    {
     "name": "stdout",
     "output_type": "stream",
     "text": [
      "Requirement already satisfied: pandas in ./venv/lib/python3.12/site-packages (2.2.2)\n",
      "Requirement already satisfied: numpy>=1.26.0 in ./venv/lib/python3.12/site-packages (from pandas) (2.0.1)\n",
      "Requirement already satisfied: python-dateutil>=2.8.2 in ./venv/lib/python3.12/site-packages (from pandas) (2.9.0.post0)\n",
      "Requirement already satisfied: pytz>=2020.1 in ./venv/lib/python3.12/site-packages (from pandas) (2024.1)\n",
      "Requirement already satisfied: tzdata>=2022.7 in ./venv/lib/python3.12/site-packages (from pandas) (2024.1)\n",
      "Requirement already satisfied: six>=1.5 in ./venv/lib/python3.12/site-packages (from python-dateutil>=2.8.2->pandas) (1.16.0)\n",
      "Note: you may need to restart the kernel to use updated packages.\n"
     ]
    }
   ],
   "source": [
    "%pip install pandas"
   ]
  },
  {
   "cell_type": "code",
   "execution_count": 17,
   "metadata": {},
   "outputs": [
    {
     "name": "stdout",
     "output_type": "stream",
     "text": [
      "Requirement already satisfied: numpy in ./venv/lib/python3.12/site-packages (2.0.1)\n",
      "Note: you may need to restart the kernel to use updated packages.\n"
     ]
    }
   ],
   "source": [
    "%pip install numpy"
   ]
  },
  {
   "cell_type": "code",
   "execution_count": 18,
   "metadata": {},
   "outputs": [
    {
     "data": {
      "text/html": [
       "<div>\n",
       "<style scoped>\n",
       "    .dataframe tbody tr th:only-of-type {\n",
       "        vertical-align: middle;\n",
       "    }\n",
       "\n",
       "    .dataframe tbody tr th {\n",
       "        vertical-align: top;\n",
       "    }\n",
       "\n",
       "    .dataframe thead th {\n",
       "        text-align: right;\n",
       "    }\n",
       "</style>\n",
       "<table border=\"1\" class=\"dataframe\">\n",
       "  <thead>\n",
       "    <tr style=\"text-align: right;\">\n",
       "      <th></th>\n",
       "      <th>Date/Time</th>\n",
       "      <th>Temp_C</th>\n",
       "      <th>Dew Point Temp_C</th>\n",
       "      <th>Rel Hum_%</th>\n",
       "      <th>Wind Speed_km/h</th>\n",
       "      <th>Visibility_km</th>\n",
       "      <th>Press_kPa</th>\n",
       "      <th>Weather</th>\n",
       "    </tr>\n",
       "  </thead>\n",
       "  <tbody>\n",
       "    <tr>\n",
       "      <th>67</th>\n",
       "      <td>1/3/2012 19:00</td>\n",
       "      <td>-16.9</td>\n",
       "      <td>-24.8</td>\n",
       "      <td>50</td>\n",
       "      <td>24</td>\n",
       "      <td>25.0</td>\n",
       "      <td>101.74</td>\n",
       "      <td>Clear</td>\n",
       "    </tr>\n",
       "    <tr>\n",
       "      <th>114</th>\n",
       "      <td>1/5/2012 18:00</td>\n",
       "      <td>-7.1</td>\n",
       "      <td>-14.4</td>\n",
       "      <td>56</td>\n",
       "      <td>11</td>\n",
       "      <td>25.0</td>\n",
       "      <td>100.71</td>\n",
       "      <td>Clear</td>\n",
       "    </tr>\n",
       "    <tr>\n",
       "      <th>115</th>\n",
       "      <td>1/5/2012 19:00</td>\n",
       "      <td>-9.2</td>\n",
       "      <td>-15.4</td>\n",
       "      <td>61</td>\n",
       "      <td>7</td>\n",
       "      <td>25.0</td>\n",
       "      <td>100.80</td>\n",
       "      <td>Clear</td>\n",
       "    </tr>\n",
       "    <tr>\n",
       "      <th>116</th>\n",
       "      <td>1/5/2012 20:00</td>\n",
       "      <td>-9.8</td>\n",
       "      <td>-15.7</td>\n",
       "      <td>62</td>\n",
       "      <td>9</td>\n",
       "      <td>25.0</td>\n",
       "      <td>100.83</td>\n",
       "      <td>Clear</td>\n",
       "    </tr>\n",
       "    <tr>\n",
       "      <th>117</th>\n",
       "      <td>1/5/2012 21:00</td>\n",
       "      <td>-9.0</td>\n",
       "      <td>-14.8</td>\n",
       "      <td>63</td>\n",
       "      <td>13</td>\n",
       "      <td>25.0</td>\n",
       "      <td>100.83</td>\n",
       "      <td>Clear</td>\n",
       "    </tr>\n",
       "    <tr>\n",
       "      <th>...</th>\n",
       "      <td>...</td>\n",
       "      <td>...</td>\n",
       "      <td>...</td>\n",
       "      <td>...</td>\n",
       "      <td>...</td>\n",
       "      <td>...</td>\n",
       "      <td>...</td>\n",
       "      <td>...</td>\n",
       "    </tr>\n",
       "    <tr>\n",
       "      <th>8646</th>\n",
       "      <td>12/26/2012 6:00</td>\n",
       "      <td>-13.4</td>\n",
       "      <td>-14.8</td>\n",
       "      <td>89</td>\n",
       "      <td>4</td>\n",
       "      <td>25.0</td>\n",
       "      <td>102.47</td>\n",
       "      <td>Clear</td>\n",
       "    </tr>\n",
       "    <tr>\n",
       "      <th>8698</th>\n",
       "      <td>12/28/2012 10:00</td>\n",
       "      <td>-6.1</td>\n",
       "      <td>-8.6</td>\n",
       "      <td>82</td>\n",
       "      <td>19</td>\n",
       "      <td>24.1</td>\n",
       "      <td>101.27</td>\n",
       "      <td>Clear</td>\n",
       "    </tr>\n",
       "    <tr>\n",
       "      <th>8713</th>\n",
       "      <td>12/29/2012 1:00</td>\n",
       "      <td>-11.9</td>\n",
       "      <td>-13.6</td>\n",
       "      <td>87</td>\n",
       "      <td>11</td>\n",
       "      <td>25.0</td>\n",
       "      <td>101.31</td>\n",
       "      <td>Clear</td>\n",
       "    </tr>\n",
       "    <tr>\n",
       "      <th>8714</th>\n",
       "      <td>12/29/2012 2:00</td>\n",
       "      <td>-11.8</td>\n",
       "      <td>-13.1</td>\n",
       "      <td>90</td>\n",
       "      <td>13</td>\n",
       "      <td>25.0</td>\n",
       "      <td>101.33</td>\n",
       "      <td>Clear</td>\n",
       "    </tr>\n",
       "    <tr>\n",
       "      <th>8756</th>\n",
       "      <td>12/30/2012 20:00</td>\n",
       "      <td>-13.8</td>\n",
       "      <td>-16.5</td>\n",
       "      <td>80</td>\n",
       "      <td>24</td>\n",
       "      <td>25.0</td>\n",
       "      <td>101.52</td>\n",
       "      <td>Clear</td>\n",
       "    </tr>\n",
       "  </tbody>\n",
       "</table>\n",
       "<p>1326 rows × 8 columns</p>\n",
       "</div>"
      ],
      "text/plain": [
       "             Date/Time  Temp_C  Dew Point Temp_C  Rel Hum_%  Wind Speed_km/h  \\\n",
       "67      1/3/2012 19:00   -16.9             -24.8         50               24   \n",
       "114     1/5/2012 18:00    -7.1             -14.4         56               11   \n",
       "115     1/5/2012 19:00    -9.2             -15.4         61                7   \n",
       "116     1/5/2012 20:00    -9.8             -15.7         62                9   \n",
       "117     1/5/2012 21:00    -9.0             -14.8         63               13   \n",
       "...                ...     ...               ...        ...              ...   \n",
       "8646   12/26/2012 6:00   -13.4             -14.8         89                4   \n",
       "8698  12/28/2012 10:00    -6.1              -8.6         82               19   \n",
       "8713   12/29/2012 1:00   -11.9             -13.6         87               11   \n",
       "8714   12/29/2012 2:00   -11.8             -13.1         90               13   \n",
       "8756  12/30/2012 20:00   -13.8             -16.5         80               24   \n",
       "\n",
       "      Visibility_km  Press_kPa Weather  \n",
       "67             25.0     101.74   Clear  \n",
       "114            25.0     100.71   Clear  \n",
       "115            25.0     100.80   Clear  \n",
       "116            25.0     100.83   Clear  \n",
       "117            25.0     100.83   Clear  \n",
       "...             ...        ...     ...  \n",
       "8646           25.0     102.47   Clear  \n",
       "8698           24.1     101.27   Clear  \n",
       "8713           25.0     101.31   Clear  \n",
       "8714           25.0     101.33   Clear  \n",
       "8756           25.0     101.52   Clear  \n",
       "\n",
       "[1326 rows x 8 columns]"
      ]
     },
     "execution_count": 18,
     "metadata": {},
     "output_type": "execute_result"
    }
   ],
   "source": [
    "#Find all records where the weather was exactly clear.\n",
    "\n",
    "#import libraries\n",
    "#search code to read excel\n",
    "#create a dataframe of the data\n",
    "#filter weather column with data /details containing \"Mostly clear\"\n",
    "\n",
    "import pandas as pd\n",
    "\n",
    "df = pd.read_csv('WeatherData.csv')\n",
    "\n",
    "df[df['Weather'] == 'Clear']\n",
    "\n",
    "\n",
    "\n"
   ]
  },
  {
   "cell_type": "code",
   "execution_count": 19,
   "metadata": {},
   "outputs": [
    {
     "name": "stdout",
     "output_type": "stream",
     "text": [
      "474\n"
     ]
    }
   ],
   "source": [
    "#  Find the number of times the wind speed was exactly 4 km/hr. \n",
    "  \n",
    "wind_speed_4 = df[df['Wind Speed_km/h'] == 4].shape[0]\n",
    "print(wind_speed_4)"
   ]
  },
  {
   "cell_type": "code",
   "execution_count": 20,
   "metadata": {},
   "outputs": [
    {
     "data": {
      "text/plain": [
       "0"
      ]
     },
     "execution_count": 20,
     "metadata": {},
     "output_type": "execute_result"
    }
   ],
   "source": [
    "# Check if there are any NULL values present in the dataset.\n",
    "\n",
    "df.isnull().sum()\n",
    "df[df['Weather'] == 'null'].shape[0]"
   ]
  },
  {
   "cell_type": "code",
   "execution_count": 21,
   "metadata": {},
   "outputs": [
    {
     "name": "stdout",
     "output_type": "stream",
     "text": [
      "Index(['Date/Time', 'Temp_C', 'Dew Point Temp_C', 'Rel Hum_%',\n",
      "       'Wind Speed_km/h', 'Visibility_km', 'Press_kPa', 'Weather_Condition'],\n",
      "      dtype='object')\n"
     ]
    }
   ],
   "source": [
    "# Rename the column \"Weather\" to \"Weather_Condition.\"\n",
    "\n",
    "df.rename(columns = {'Weather':'Weather_Condition'}, inplace = True)\n",
    "\n",
    "print (df.columns)"
   ]
  },
  {
   "cell_type": "code",
   "execution_count": 22,
   "metadata": {},
   "outputs": [
    {
     "name": "stdout",
     "output_type": "stream",
     "text": [
      "27.664446721311478\n"
     ]
    }
   ],
   "source": [
    "# What is the mean visibility of the dataset?\n",
    "mean_visibility = df['Visibility_km'].mean()\n",
    "print(mean_visibility)\n"
   ]
  },
  {
   "cell_type": "code",
   "execution_count": 23,
   "metadata": {},
   "outputs": [
    {
     "name": "stdout",
     "output_type": "stream",
     "text": [
      "308\n"
     ]
    }
   ],
   "source": [
    "# Find the number of records where the wind speed is greater than 24 km/hr and visibility is equal to 25 km.\n",
    "records = df[(df['Wind Speed_km/h'] > 24) & (df['Visibility_km'] == 25)].shape[0]\n",
    "print(records)"
   ]
  },
  {
   "cell_type": "code",
   "execution_count": null,
   "metadata": {},
   "outputs": [],
   "source": [
    "# what is the mean value of each column for each weather condition?\n",
    "mean_values = df.groupby('Weather_Condition').mean()\n",
    "print(mean_values)\n",
    "\n"
   ]
  },
  {
   "cell_type": "code",
   "execution_count": null,
   "metadata": {},
   "outputs": [],
   "source": [
    "# Find all instances where the weather is clear and the relative humidity is greater than 50, or visibility is above 40.\n",
    "\n",
    "instances = df[(df['Weather_Condition'] == 'Clear') & (df['Relative Humidity'] > 50) | (df['Visibility_km'] > 40)]\n",
    "print(instances)\n"
   ]
  },
  {
   "cell_type": "code",
   "execution_count": null,
   "metadata": {},
   "outputs": [],
   "source": [
    "# Find the number of weather conditions that include snow.\n",
    "\n",
    "snow_conditions = df[df['Weather_Condition'].str.contains('Snow')].shape[0]\n",
    "print(snow_conditions)"
   ]
  },
  {
   "cell_type": "code",
   "execution_count": 25,
   "metadata": {},
   "outputs": [
    {
     "name": "stdout",
     "output_type": "stream",
     "text": [
      "583\n"
     ]
    }
   ],
   "source": [
    "snow_conditions = df['Weather_Condition'].str.contains('Snow').sum()\n",
    "print(snow_conditions)\n"
   ]
  },
  {
   "cell_type": "markdown",
   "metadata": {},
   "source": []
  },
  {
   "cell_type": "markdown",
   "metadata": {},
   "source": []
  },
  {
   "cell_type": "code",
   "execution_count": null,
   "metadata": {},
   "outputs": [],
   "source": []
  },
  {
   "cell_type": "code",
   "execution_count": null,
   "metadata": {},
   "outputs": [],
   "source": []
  },
  {
   "cell_type": "code",
   "execution_count": null,
   "metadata": {},
   "outputs": [],
   "source": []
  }
 ],
 "metadata": {
  "kernelspec": {
   "display_name": "venv",
   "language": "python",
   "name": "python3"
  },
  "language_info": {
   "codemirror_mode": {
    "name": "ipython",
    "version": 3
   },
   "file_extension": ".py",
   "mimetype": "text/x-python",
   "name": "python",
   "nbconvert_exporter": "python",
   "pygments_lexer": "ipython3",
   "version": "3.12.3"
  }
 },
 "nbformat": 4,
 "nbformat_minor": 2
}
